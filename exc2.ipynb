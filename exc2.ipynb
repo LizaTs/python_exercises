{
  "nbformat": 4,
  "nbformat_minor": 5,
  "metadata": {
    "kernelspec": {
      "display_name": "Python 3",
      "language": "python",
      "name": "python3"
    },
    "language_info": {
      "codemirror_mode": {
        "name": "ipython",
        "version": 3
      },
      "file_extension": ".py",
      "mimetype": "text/x-python",
      "name": "python",
      "nbconvert_exporter": "python",
      "pygments_lexer": "ipython3",
      "version": "3.8.3"
    },
    "colab": {
      "name": "exc2.ipynb",
      "provenance": [],
      "include_colab_link": true
    }
  },
  "cells": [
    {
      "cell_type": "markdown",
      "metadata": {
        "id": "view-in-github",
        "colab_type": "text"
      },
      "source": [
        "<a href=\"https://colab.research.google.com/github/LizaTs/python_exercises/blob/main/exc2.ipynb\" target=\"_parent\"><img src=\"https://colab.research.google.com/assets/colab-badge.svg\" alt=\"Open In Colab\"/></a>"
      ]
    },
    {
      "cell_type": "markdown",
      "metadata": {
        "id": "friendly-pharmaceutical"
      },
      "source": [
        "### Lesson 2 - Conditionals, Error handling and Code conventions"
      ],
      "id": "friendly-pharmaceutical"
    },
    {
      "cell_type": "markdown",
      "metadata": {
        "id": "subtle-nylon"
      },
      "source": [
        "#### Q1\n",
        "Write a Python program to count the number of even and odd numbers from a series of numbers\n",
        "\n",
        "[hint](https://realpython.com/python-modulo-operator/#python-modulo-operator-basics)"
      ],
      "id": "subtle-nylon"
    },
    {
      "cell_type": "code",
      "metadata": {
        "colab": {
          "base_uri": "https://localhost:8080/"
        },
        "id": "protected-album",
        "outputId": "a0712c97-6e78-40e9-d179-9f8515abc3a9"
      },
      "source": [
        "nums = range(0,100)\n",
        "\n",
        "#create a list of evens and a list of odds\n",
        "#create a loop that checks if each number on the list is even or odd\n",
        "#if divides by 2- add the number to the list of evens\n",
        "#if doesnt divide by 2- add the numbet to the list of odds\n",
        "#return length of both lists\n",
        "\n",
        "evens = 0\n",
        "\n",
        "for i in nums:\n",
        "  if i % 2 == 0:\n",
        "    evens = evens + 1\n",
        "\n",
        "\n",
        "print(\"the number of even numbers in your series is: \" , evens)\n",
        "print(\"the number of odd numbers in your series is: \" , len(nums) - evens)\n"
      ],
      "id": "protected-album",
      "execution_count": null,
      "outputs": [
        {
          "output_type": "stream",
          "text": [
            "the number of even numbers in your series is:  50\n",
            "the number of odd numbers in your series is:  50\n"
          ],
          "name": "stdout"
        }
      ]
    },
    {
      "cell_type": "markdown",
      "metadata": {
        "id": "rough-freeze"
      },
      "source": [
        "#### Q2\n",
        "using for loops print the following pyramid:\n",
        "\n",
        "\\*  \n",
        "\\*\\*  \n",
        "\\*\\*\\*  \n",
        "\\*\\*  \n",
        "\\*  "
      ],
      "id": "rough-freeze"
    },
    {
      "cell_type": "code",
      "metadata": {
        "id": "capable-seventh",
        "colab": {
          "base_uri": "https://localhost:8080/"
        },
        "outputId": "3238037c-2e3e-4500-ebbd-2f7e1769dd4a"
      },
      "source": [
        "asterisk = \"*\"\n",
        "level = 3\n",
        "\n",
        "for i in range(1,level):\n",
        "  print(i * asterisk)\n",
        "for i in range(level, -1, -1):\n",
        "  print(i * asterisk)"
      ],
      "id": "capable-seventh",
      "execution_count": null,
      "outputs": [
        {
          "output_type": "stream",
          "text": [
            "*\n",
            "**\n",
            "***\n",
            "**\n",
            "*\n",
            "\n"
          ],
          "name": "stdout"
        }
      ]
    },
    {
      "cell_type": "markdown",
      "metadata": {
        "id": "billion-matthew"
      },
      "source": [
        "#### Q3\n",
        "create a function print_pyramid(size) that given an int variable \"size\" prints out a corresponding so called 'pyramid'with its central line being as long as size"
      ],
      "id": "billion-matthew"
    },
    {
      "cell_type": "code",
      "metadata": {
        "id": "sunrise-canadian",
        "colab": {
          "base_uri": "https://localhost:8080/"
        },
        "outputId": "9775f50a-4bf4-4de3-b28e-4bd87010fa73"
      },
      "source": [
        "def print_pyramid(size):\n",
        "  asterisk = \"*\"\n",
        "  space = ' '\n",
        "  level = size #length of central line\n",
        "  j = 1 #number of asterisks\n",
        "\n",
        "  print(space * (size-1) + asterisk) #prints the top of the pyramid\n",
        "\n",
        "  for i in range(level-2, -1, -1): #Decreases the number of spaces per line and increases the number of asterisks\n",
        "    print((space * i) + (j * asterisk)*2 + asterisk)\n",
        "    j = j + 1\n",
        "\n",
        "print_pyramid(5)"
      ],
      "id": "sunrise-canadian",
      "execution_count": null,
      "outputs": [
        {
          "output_type": "stream",
          "text": [
            "    *\n",
            "   ***\n",
            "  *****\n",
            " *******\n",
            "*********\n"
          ],
          "name": "stdout"
        }
      ]
    },
    {
      "cell_type": "markdown",
      "metadata": {
        "id": "banned-boston"
      },
      "source": [
        "#### Q4\n",
        "Calculate the log base ten of each value in xvals and store the result in a list called solution. Use exception handling (try and except) to skip any calculations that produce math domain errors. when a value can't be calculated add 'None' to solutions"
      ],
      "id": "banned-boston"
    },
    {
      "cell_type": "code",
      "metadata": {
        "id": "secret-sampling",
        "colab": {
          "base_uri": "https://localhost:8080/"
        },
        "outputId": "712df62e-51ed-4e47-ed6a-770fa6d60bf8"
      },
      "source": [
        "xvals = (0.8, -0.1, 0.9, -0.1, 0.1, 0.30000000000000004, -0.1, 0.5, 1.0, -0.1, 0.9, 0.9, 0.1, 1.0, 0.2, 0.2, 0.1, 0.9, 0.0, 1.0)\n",
        "solution = []\n",
        "\n",
        "import math\n",
        "\n",
        "for i in xvals: #checks if each number in xvals is valid for log function\n",
        "  try:\n",
        "    solution.append(math.log10(i)) #adds the log base ten of the valid values to solution\n",
        "  except:\n",
        "    solution.append(None) #adds to solution 'None' when finds an invalid value in xvals\n",
        "\n",
        "print(solution)"
      ],
      "id": "secret-sampling",
      "execution_count": null,
      "outputs": [
        {
          "output_type": "stream",
          "text": [
            "[-0.09691001300805639, None, None, -0.045757490560675115, None, None, -1.0, None, -0.5228787452803375, None, None, -0.3010299956639812, None, 0.0, None, None, -0.045757490560675115, None, -0.045757490560675115, None, -1.0, None, 0.0, None, -0.6989700043360187, None, -0.6989700043360187, None, -1.0, None, -0.045757490560675115, None, None, 0.0, None]\n"
          ],
          "name": "stdout"
        }
      ]
    },
    {
      "cell_type": "code",
      "metadata": {
        "id": "acceptable-armenia",
        "outputId": "6f15df3a-ef9b-434c-8d81-2c24a218f3f2"
      },
      "source": [
        "type(None) "
      ],
      "id": "acceptable-armenia",
      "execution_count": null,
      "outputs": [
        {
          "output_type": "execute_result",
          "data": {
            "text/plain": [
              "NoneType"
            ]
          },
          "metadata": {
            "tags": []
          },
          "execution_count": 4
        }
      ]
    }
  ]
}